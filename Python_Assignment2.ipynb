{
  "nbformat": 4,
  "nbformat_minor": 0,
  "metadata": {
    "colab": {
      "name": "Python Assignment2.ipynb",
      "provenance": [],
      "authorship_tag": "ABX9TyP62Bppaa6iOEj2I+wJefSf",
      "include_colab_link": true
    },
    "kernelspec": {
      "name": "python3",
      "display_name": "Python 3"
    }
  },
  "cells": [
    {
      "cell_type": "markdown",
      "metadata": {
        "id": "view-in-github",
        "colab_type": "text"
      },
      "source": [
        "<a href=\"https://colab.research.google.com/github/jatin-658/ML-Regression-Algos/blob/master/Python_Assignment2.ipynb\" target=\"_parent\"><img src=\"https://colab.research.google.com/assets/colab-badge.svg\" alt=\"Open In Colab\"/></a>"
      ]
    },
    {
      "cell_type": "markdown",
      "metadata": {
        "id": "8WvCngH45yAx",
        "colab_type": "text"
      },
      "source": [
        "Create the below pattern using nested for loop in Python."
      ]
    },
    {
      "cell_type": "code",
      "metadata": {
        "id": "gOnTAHzC4-OW",
        "colab_type": "code",
        "colab": {
          "base_uri": "https://localhost:8080/",
          "height": 168
        },
        "outputId": "08da650d-bfef-43ee-9e63-1025239e5512"
      },
      "source": [
        "for j in range(0,9):\n",
        "  if (j<=5):\n",
        "      print(\"*\"*j)\n",
        "  else:\n",
        "    print(\"*\"*(9-j))\n",
        "    "
      ],
      "execution_count": 13,
      "outputs": [
        {
          "output_type": "stream",
          "text": [
            "\n",
            "*\n",
            "**\n",
            "***\n",
            "****\n",
            "*****\n",
            "***\n",
            "**\n",
            "*\n"
          ],
          "name": "stdout"
        }
      ]
    },
    {
      "cell_type": "code",
      "metadata": {
        "id": "bwKdDylU6nRb",
        "colab_type": "code",
        "colab": {
          "base_uri": "https://localhost:8080/",
          "height": 319
        },
        "outputId": "92ffd582-a482-4335-9cd9-26744aab95e2"
      },
      "source": [
        "for i in range(0,9):\n",
        "  if (i <= 4):\n",
        "    for j in range(0,i+1):\n",
        "      print(\"*\",end=\"\")\n",
        "    print(\"\\n\")\n",
        "  else:\n",
        "    for j in range(i,9):\n",
        "      print(\"*\",end =\"\")\n",
        "    print(\"\\n\")    "
      ],
      "execution_count": 20,
      "outputs": [
        {
          "output_type": "stream",
          "text": [
            "*\n",
            "\n",
            "**\n",
            "\n",
            "***\n",
            "\n",
            "****\n",
            "\n",
            "*****\n",
            "\n",
            "****\n",
            "\n",
            "***\n",
            "\n",
            "**\n",
            "\n",
            "*\n",
            "\n"
          ],
          "name": "stdout"
        }
      ]
    },
    {
      "cell_type": "markdown",
      "metadata": {
        "id": "kJJw9DrU-G3g",
        "colab_type": "text"
      },
      "source": [
        "3.Write a Python program to reverse a word after accepting the input from the user.\n"
      ]
    },
    {
      "cell_type": "code",
      "metadata": {
        "id": "ohyEw0n8741E",
        "colab_type": "code",
        "colab": {
          "base_uri": "https://localhost:8080/",
          "height": 50
        },
        "outputId": "e42b10e1-78a6-4d9e-b92c-844cb4a7af7e"
      },
      "source": [
        "Enter_Word = input(\"Please Enter the Word \")\n",
        "print(\"Reverse of the Word is {}\" .format(Enter_Word[::-1]))"
      ],
      "execution_count": 24,
      "outputs": [
        {
          "output_type": "stream",
          "text": [
            "Please Enter the Word Jatin\n",
            "Reverse of the Word is nitaJ\n"
          ],
          "name": "stdout"
        }
      ]
    },
    {
      "cell_type": "code",
      "metadata": {
        "id": "yXdWeVvQ-WJs",
        "colab_type": "code",
        "colab": {
          "base_uri": "https://localhost:8080/",
          "height": 34
        },
        "outputId": "6cddf021-5641-4b70-f9aa-0b9b0a62ac62"
      },
      "source": [
        "Enter_Word"
      ],
      "execution_count": 22,
      "outputs": [
        {
          "output_type": "execute_result",
          "data": {
            "text/plain": [
              "'Jatin'"
            ]
          },
          "metadata": {
            "tags": []
          },
          "execution_count": 22
        }
      ]
    },
    {
      "cell_type": "code",
      "metadata": {
        "id": "zyURtZ-1-aS5",
        "colab_type": "code",
        "colab": {}
      },
      "source": [
        ""
      ],
      "execution_count": 0,
      "outputs": []
    }
  ]
}